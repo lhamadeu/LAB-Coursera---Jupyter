{
 "cells": [
  {
   "cell_type": "markdown",
   "id": "a360f9e8-8a95-45f1-a993-2fbd85ecbee1",
   "metadata": {},
   "source": [
    "# Data Science Tools and Ecosystem"
   ]
  },
  {
   "cell_type": "markdown",
   "id": "d457cc45-28a7-4574-9108-99640870fd1e",
   "metadata": {},
   "source": [
    "In this notebook, Data Science Tools and Ecosystem are summarized"
   ]
  },
  {
   "cell_type": "markdown",
   "id": "d7bd69b4-e7a7-4843-9d09-b92a7500b2fd",
   "metadata": {},
   "source": [
    "Some of the popular languages that Data Scientists use are\n",
    "1. Pyhton\n",
    "2. R\n",
    "3. Javascript"
   ]
  },
  {
   "cell_type": "markdown",
   "id": "1bf51ded-2949-49a9-939c-3e8d13d4a56f",
   "metadata": {},
   "source": [
    "**Objectives:** \n",
    "* Data tools\n",
    "* Data Libraries\n",
    "* Expressions\n",
    "* Bold text and simple equations"
   ]
  },
  {
   "cell_type": "markdown",
   "id": "0cbe32fd-adb5-48c9-a596-1754d87ab9b6",
   "metadata": {},
   "source": [
    "Some of the commonly used libraries used by Data Scientists include:\n",
    "1. Pandas\n",
    "2. Numpy\n",
    "3. Scikit "
   ]
  },
  {
   "cell_type": "markdown",
   "id": "cb1625d3-64cf-403e-ba8b-f1a9b2dc42f8",
   "metadata": {},
   "source": [
    "Data Science Tools |\n",
    "-------------------|\n",
    "Jupyter            |\n",
    "Pytorch            |\n",
    "Tableau            |\n"
   ]
  },
  {
   "cell_type": "markdown",
   "id": "851d963b-14ab-4c2d-98c0-eb4310f18c0b",
   "metadata": {},
   "source": [
    "### Below are a few examples of evaluating arithmetic expressions in python"
   ]
  },
  {
   "cell_type": "code",
   "execution_count": 20,
   "id": "68866fce-305b-4d38-b0e6-b06c26e1ab43",
   "metadata": {},
   "outputs": [
    {
     "data": {
      "text/plain": [
       "17"
      ]
     },
     "execution_count": 20,
     "metadata": {},
     "output_type": "execute_result"
    }
   ],
   "source": [
    "(3*4)+5\n",
    "# This a simple arithmetic expression to mtiply then add integers"
   ]
  },
  {
   "cell_type": "code",
   "execution_count": 36,
   "id": "4c3bb04d-d5d7-411d-a67c-be8d0c82fca8",
   "metadata": {},
   "outputs": [
    {
     "name": "stdout",
     "output_type": "stream",
     "text": [
      "3 horas e 20 minutos\n"
     ]
    }
   ],
   "source": [
    "print(200//60, \"horas e\", 200%60, \"minutos\")"
   ]
  },
  {
   "cell_type": "code",
   "execution_count": null,
   "id": "a336dd02-ace4-4004-a07c-baf1cc7db513",
   "metadata": {},
   "outputs": [],
   "source": [
    "This will convert 200 minutes to hours by diving by 60"
   ]
  },
  {
   "cell_type": "markdown",
   "id": "65dd7c6c-de28-4a33-a4af-b56e72212911",
   "metadata": {},
   "source": [
    "## Author: Luis Henrique"
   ]
  },
  {
   "cell_type": "markdown",
   "id": "ddba4129-a634-497c-8706-9ef7ca7f38d8",
   "metadata": {},
   "source": []
  }
 ],
 "metadata": {
  "kernelspec": {
   "display_name": "Python 3 (ipykernel)",
   "language": "python",
   "name": "python3"
  },
  "language_info": {
   "codemirror_mode": {
    "name": "ipython",
    "version": 3
   },
   "file_extension": ".py",
   "mimetype": "text/x-python",
   "name": "python",
   "nbconvert_exporter": "python",
   "pygments_lexer": "ipython3",
   "version": "3.12.4"
  }
 },
 "nbformat": 4,
 "nbformat_minor": 5
}
